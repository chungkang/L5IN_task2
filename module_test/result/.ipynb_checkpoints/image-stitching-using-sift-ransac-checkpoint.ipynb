{
 "cells": [
  {
   "cell_type": "code",
   "execution_count": 1,
   "id": "409fadd1",
   "metadata": {},
   "outputs": [],
   "source": [
    "import cv2\n",
    "import matplotlib.pyplot as plt\n",
    "import numpy as np\n",
    "import random\n",
    "from tqdm.notebook import tqdm"
   ]
  },
  {
   "cell_type": "code",
   "execution_count": 2,
   "id": "50346a21",
   "metadata": {},
   "outputs": [],
   "source": [
    "# Read image and convert them to gray!!\n",
    "def read_image(path):\n",
    "    img = cv2.imread(path)\n",
    "    img_gray= cv2.cvtColor(img, cv2.COLOR_RGB2GRAY)\n",
    "    img_rgb = cv2.cvtColor(img, cv2.COLOR_BGR2RGB)\n",
    "    return img_gray, img, img_rgb"
   ]
  },
  {
   "cell_type": "code",
   "execution_count": 3,
   "id": "c1ff540b",
   "metadata": {},
   "outputs": [],
   "source": [
    "def SIFT(img):\n",
    "    siftDetector= cv2.xfeatures2d.SIFT_create() # limit 1000 points\n",
    "    # siftDetector= cv2.SIFT_create()  # depends on OpenCV version\n",
    "\n",
    "    kp, des = siftDetector.detectAndCompute(img, None)\n",
    "    return kp, des"
   ]
  },
  {
   "cell_type": "code",
   "execution_count": 4,
   "id": "a7ca7d3c",
   "metadata": {},
   "outputs": [],
   "source": [
    "def plot_sift(gray, rgb, kp):\n",
    "    tmp = rgb.copy()\n",
    "    img = cv2.drawKeypoints(gray, kp, tmp, flags=cv2.DRAW_MATCHES_FLAGS_DRAW_RICH_KEYPOINTS)\n",
    "    return img"
   ]
  },
  {
   "cell_type": "code",
   "execution_count": 5,
   "id": "63cb7d9b",
   "metadata": {},
   "outputs": [],
   "source": [
    "def matcher(kp1, des1, img1, kp2, des2, img2, threshold):\n",
    "    # BFMatcher with default params\n",
    "    bf = cv2.BFMatcher()\n",
    "    matches = bf.knnMatch(des1,des2, k=2)\n",
    "\n",
    "    # Apply ratio test\n",
    "    good = []\n",
    "    for m,n in matches:\n",
    "        if m.distance < threshold*n.distance:\n",
    "            good.append([m])\n",
    "\n",
    "    matches = []\n",
    "    for pair in good:\n",
    "        matches.append(list(kp1[pair[0].queryIdx].pt + kp2[pair[0].trainIdx].pt))\n",
    "\n",
    "    matches = np.array(matches)\n",
    "    return matches"
   ]
  },
  {
   "cell_type": "code",
   "execution_count": 6,
   "id": "e0b33f44",
   "metadata": {},
   "outputs": [],
   "source": [
    "def plot_matches(matches, total_img):\n",
    "    match_img = total_img.copy()\n",
    "    offset = total_img.shape[1]/2\n",
    "    fig, ax = plt.subplots()\n",
    "    ax.set_aspect('equal')\n",
    "    ax.imshow(np.array(match_img).astype('uint8')) #　RGB is integer type\n",
    "    \n",
    "    ax.plot(matches[:, 0], matches[:, 1], 'xr')\n",
    "    ax.plot(matches[:, 2] + offset, matches[:, 3], 'xr')\n",
    "     \n",
    "    ax.plot([matches[:, 0], matches[:, 2] + offset], [matches[:, 1], matches[:, 3]],\n",
    "            'r', linewidth=0.5)\n",
    "\n",
    "    plt.show()"
   ]
  },
  {
   "cell_type": "code",
   "execution_count": 7,
   "id": "297780c7",
   "metadata": {},
   "outputs": [],
   "source": [
    "def homography(pairs):\n",
    "    rows = []\n",
    "    for i in range(pairs.shape[0]):\n",
    "        p1 = np.append(pairs[i][0:2], 1)\n",
    "        p2 = np.append(pairs[i][2:4], 1)\n",
    "        row1 = [0, 0, 0, p1[0], p1[1], p1[2], -p2[1]*p1[0], -p2[1]*p1[1], -p2[1]*p1[2]]\n",
    "        row2 = [p1[0], p1[1], p1[2], 0, 0, 0, -p2[0]*p1[0], -p2[0]*p1[1], -p2[0]*p1[2]]\n",
    "        rows.append(row1)\n",
    "        rows.append(row2)\n",
    "    rows = np.array(rows)\n",
    "    U, s, V = np.linalg.svd(rows)\n",
    "    H = V[-1].reshape(3, 3)\n",
    "    H = H/H[2, 2] # standardize to let w*H[2,2] = 1\n",
    "    return H"
   ]
  },
  {
   "cell_type": "code",
   "execution_count": 8,
   "id": "d04b17d8",
   "metadata": {},
   "outputs": [],
   "source": [
    "def random_point(matches, k=4):\n",
    "    idx = random.sample(range(len(matches)), k)\n",
    "    point = [matches[i] for i in idx ]\n",
    "    return np.array(point)"
   ]
  },
  {
   "cell_type": "code",
   "execution_count": 9,
   "id": "3108641b",
   "metadata": {},
   "outputs": [],
   "source": [
    "def get_error(points, H):\n",
    "    num_points = len(points)\n",
    "    all_p1 = np.concatenate((points[:, 0:2], np.ones((num_points, 1))), axis=1)\n",
    "    all_p2 = points[:, 2:4]\n",
    "    estimate_p2 = np.zeros((num_points, 2))\n",
    "    for i in range(num_points):\n",
    "        temp = np.dot(H, all_p1[i])\n",
    "        estimate_p2[i] = (temp/temp[2])[0:2] # set index 2 to 1 and slice the index 0, 1\n",
    "    # Compute error\n",
    "    errors = np.linalg.norm(all_p2 - estimate_p2 , axis=1) ** 2\n",
    "\n",
    "    return errors"
   ]
  },
  {
   "cell_type": "code",
   "execution_count": 10,
   "id": "e5045eb8",
   "metadata": {},
   "outputs": [],
   "source": [
    "def ransac(matches, threshold, iters):\n",
    "    num_best_inliers = 0\n",
    "    \n",
    "    for i in range(iters):\n",
    "        points = random_point(matches)\n",
    "        H = homography(points)\n",
    "        \n",
    "        #  avoid dividing by zero \n",
    "        if np.linalg.matrix_rank(H) < 3:\n",
    "            continue\n",
    "            \n",
    "        errors = get_error(matches, H)\n",
    "        idx = np.where(errors < threshold)[0]\n",
    "        inliers = matches[idx]\n",
    "\n",
    "        num_inliers = len(inliers)\n",
    "        if num_inliers > num_best_inliers:\n",
    "            best_inliers = inliers.copy()\n",
    "            num_best_inliers = num_inliers\n",
    "            best_H = H.copy()\n",
    "            \n",
    "    print(\"inliers/matches: {}/{}\".format(num_best_inliers, len(matches)))\n",
    "    return best_inliers, best_H"
   ]
  },
  {
   "cell_type": "code",
   "execution_count": 11,
   "id": "67e1b61e",
   "metadata": {},
   "outputs": [],
   "source": [
    "def stitch_img(left, right, H, buffer_size):\n",
    "    print(\"stiching image ...\")\n",
    "    \n",
    "    # Convert to double and normalize. Avoid noise.\n",
    "    left = cv2.normalize(left.astype('float'), None, 0.0, 1.0, cv2.NORM_MINMAX)   \n",
    "    # Convert to double and normalize.\n",
    "    right = cv2.normalize(right.astype('float'), None, 0.0, 1.0, cv2.NORM_MINMAX)   \n",
    "    \n",
    "    # left image\n",
    "    height_l, width_l, channel_l = left.shape\n",
    "    corners = [[0, 0, 1], [width_l, 0, 1], [width_l, height_l, 1], [0, height_l, 1]]\n",
    "    corners_new = [np.dot(H, corner) for corner in corners]\n",
    "    corners_new = np.array(corners_new).T \n",
    "    x_news = corners_new[0] / corners_new[2]\n",
    "    y_news = corners_new[1] / corners_new[2]\n",
    "    y_min = min(y_news) - buffer_size\n",
    "    x_min = min(x_news) - buffer_size\n",
    "\n",
    "    translation_mat = np.array([[1, 0, -x_min], [0, 1, -y_min], [0, 0, 1]])\n",
    "    H = np.dot(translation_mat, H)\n",
    "    \n",
    "    # Get height, width\n",
    "    height_new = int(round(abs(y_min) + height_l + buffer_size))\n",
    "    width_new = int(round(abs(x_min) + width_l + buffer_size))\n",
    "    size = (width_new, height_new)\n",
    "\n",
    "    # right image\n",
    "    warped_l = cv2.warpPerspective(src=left, M=H, dsize=size)\n",
    "\n",
    "    height_r, width_r, channel_r = right.shape\n",
    "    \n",
    "    height_new = int(round(abs(y_min) + height_r + buffer_size))\n",
    "    width_new = int(round(abs(x_min) + width_r + buffer_size))\n",
    "    size = (width_new, height_new)\n",
    "    \n",
    "\n",
    "    warped_r = cv2.warpPerspective(src=right, M=translation_mat, dsize=size)\n",
    "     \n",
    "    black = np.zeros(3)  # Black pixel.\n",
    "    \n",
    "    # Stitching procedure, store results in warped_l.\n",
    "    for i in tqdm(range(warped_r.shape[0])):\n",
    "        for j in range(warped_r.shape[1]):\n",
    "            pixel_l = warped_l[i, j, :]\n",
    "            pixel_r = warped_r[i, j, :]\n",
    "            \n",
    "            if not np.array_equal(pixel_l, black) and np.array_equal(pixel_r, black):\n",
    "                warped_l[i, j, :] = pixel_l\n",
    "            elif np.array_equal(pixel_l, black) and not np.array_equal(pixel_r, black):\n",
    "                warped_l[i, j, :] = pixel_r\n",
    "            elif not np.array_equal(pixel_l, black) and not np.array_equal(pixel_r, black):\n",
    "                warped_l[i, j, :] = (pixel_l + pixel_r) / 2\n",
    "            else:\n",
    "                pass\n",
    "                  \n",
    "    stitch_image = warped_l[:warped_r.shape[0], :warped_r.shape[1], :]\n",
    "    return stitch_image"
   ]
  },
  {
   "cell_type": "code",
   "execution_count": 12,
   "id": "a996cf06",
   "metadata": {},
   "outputs": [
    {
     "ename": "error",
     "evalue": "OpenCV(4.7.0) D:\\a\\opencv-python\\opencv-python\\opencv\\modules\\imgproc\\src\\color.cpp:182: error: (-215:Assertion failed) !_src.empty() in function 'cv::cvtColor'\n",
     "output_type": "error",
     "traceback": [
      "\u001b[1;31m---------------------------------------------------------------------------\u001b[0m",
      "\u001b[1;31merror\u001b[0m                                     Traceback (most recent call last)",
      "\u001b[1;32m~\\AppData\\Local\\Temp\\ipykernel_13184\\655053477.py\u001b[0m in \u001b[0;36m<module>\u001b[1;34m\u001b[0m\n\u001b[0;32m      1\u001b[0m \u001b[0mfile_path\u001b[0m \u001b[1;33m=\u001b[0m \u001b[1;34m\"module_test\\\\result\\\\\"\u001b[0m\u001b[1;33m\u001b[0m\u001b[1;33m\u001b[0m\u001b[0m\n\u001b[0;32m      2\u001b[0m \u001b[1;33m\u001b[0m\u001b[0m\n\u001b[1;32m----> 3\u001b[1;33m \u001b[0mleft_gray\u001b[0m\u001b[1;33m,\u001b[0m \u001b[0mleft_origin\u001b[0m\u001b[1;33m,\u001b[0m \u001b[0mleft_rgb\u001b[0m \u001b[1;33m=\u001b[0m \u001b[0mread_image\u001b[0m\u001b[1;33m(\u001b[0m\u001b[0mfile_path\u001b[0m \u001b[1;33m+\u001b[0m \u001b[1;34m'2OG_2_result.png'\u001b[0m\u001b[1;33m)\u001b[0m\u001b[1;33m\u001b[0m\u001b[1;33m\u001b[0m\u001b[0m\n\u001b[0m\u001b[0;32m      4\u001b[0m \u001b[0mright_gray\u001b[0m\u001b[1;33m,\u001b[0m \u001b[0mright_origin\u001b[0m\u001b[1;33m,\u001b[0m \u001b[0mright_rgb\u001b[0m \u001b[1;33m=\u001b[0m \u001b[0mread_image\u001b[0m\u001b[1;33m(\u001b[0m\u001b[0mfile_path\u001b[0m \u001b[1;33m+\u001b[0m \u001b[1;34m'2OG_3_result.png'\u001b[0m\u001b[1;33m)\u001b[0m\u001b[1;33m\u001b[0m\u001b[1;33m\u001b[0m\u001b[0m\n\u001b[0;32m      5\u001b[0m \u001b[1;33m\u001b[0m\u001b[0m\n",
      "\u001b[1;32m~\\AppData\\Local\\Temp\\ipykernel_13184\\307567885.py\u001b[0m in \u001b[0;36mread_image\u001b[1;34m(path)\u001b[0m\n\u001b[0;32m      2\u001b[0m \u001b[1;32mdef\u001b[0m \u001b[0mread_image\u001b[0m\u001b[1;33m(\u001b[0m\u001b[0mpath\u001b[0m\u001b[1;33m)\u001b[0m\u001b[1;33m:\u001b[0m\u001b[1;33m\u001b[0m\u001b[1;33m\u001b[0m\u001b[0m\n\u001b[0;32m      3\u001b[0m     \u001b[0mimg\u001b[0m \u001b[1;33m=\u001b[0m \u001b[0mcv2\u001b[0m\u001b[1;33m.\u001b[0m\u001b[0mimread\u001b[0m\u001b[1;33m(\u001b[0m\u001b[0mpath\u001b[0m\u001b[1;33m)\u001b[0m\u001b[1;33m\u001b[0m\u001b[1;33m\u001b[0m\u001b[0m\n\u001b[1;32m----> 4\u001b[1;33m     \u001b[0mimg_gray\u001b[0m\u001b[1;33m=\u001b[0m \u001b[0mcv2\u001b[0m\u001b[1;33m.\u001b[0m\u001b[0mcvtColor\u001b[0m\u001b[1;33m(\u001b[0m\u001b[0mimg\u001b[0m\u001b[1;33m,\u001b[0m \u001b[0mcv2\u001b[0m\u001b[1;33m.\u001b[0m\u001b[0mCOLOR_RGB2GRAY\u001b[0m\u001b[1;33m)\u001b[0m\u001b[1;33m\u001b[0m\u001b[1;33m\u001b[0m\u001b[0m\n\u001b[0m\u001b[0;32m      5\u001b[0m     \u001b[0mimg_rgb\u001b[0m \u001b[1;33m=\u001b[0m \u001b[0mcv2\u001b[0m\u001b[1;33m.\u001b[0m\u001b[0mcvtColor\u001b[0m\u001b[1;33m(\u001b[0m\u001b[0mimg\u001b[0m\u001b[1;33m,\u001b[0m \u001b[0mcv2\u001b[0m\u001b[1;33m.\u001b[0m\u001b[0mCOLOR_BGR2RGB\u001b[0m\u001b[1;33m)\u001b[0m\u001b[1;33m\u001b[0m\u001b[1;33m\u001b[0m\u001b[0m\n\u001b[0;32m      6\u001b[0m     \u001b[1;32mreturn\u001b[0m \u001b[0mimg_gray\u001b[0m\u001b[1;33m,\u001b[0m \u001b[0mimg\u001b[0m\u001b[1;33m,\u001b[0m \u001b[0mimg_rgb\u001b[0m\u001b[1;33m\u001b[0m\u001b[1;33m\u001b[0m\u001b[0m\n",
      "\u001b[1;31merror\u001b[0m: OpenCV(4.7.0) D:\\a\\opencv-python\\opencv-python\\opencv\\modules\\imgproc\\src\\color.cpp:182: error: (-215:Assertion failed) !_src.empty() in function 'cv::cvtColor'\n"
     ]
    }
   ],
   "source": [
    "# file_path = \"module_test\\\\result\\\\\"\n",
    "# left_gray, left_origin, left_rgb = read_image(file_path + '2OG_2_result.png')\n",
    "# right_gray, right_origin, right_rgb = read_image(file_path + '2OG_3_result.png')\n",
    "\n",
    "left_gray, left_origin, left_rgb = read_image('2OG_2_result.png')\n",
    "right_gray, right_origin, right_rgb = read_image('2OG_3_result.png')\n",
    "\n",
    "# Better result when using gray\n",
    "kp_left, des_left = SIFT(left_gray)\n",
    "kp_right, des_right = SIFT(right_gray)\n",
    "\n",
    "kp_left_img = plot_sift(left_gray, left_rgb, kp_left)\n",
    "kp_right_img = plot_sift(right_gray, right_rgb, kp_right)\n",
    "\n",
    "matches = matcher(kp_left, des_left, left_rgb, kp_right, des_right, right_rgb, 0.5)\n",
    "\n",
    "inliers, H = ransac(matches, 0.5, 2000)\n"
   ]
  },
  {
   "cell_type": "code",
   "execution_count": null,
   "id": "571fe025",
   "metadata": {},
   "outputs": [],
   "source": [
    "merged_image = stitch_img(left_rgb, right_rgb, H, 1000)"
   ]
  },
  {
   "cell_type": "code",
   "execution_count": null,
   "id": "2a355281",
   "metadata": {},
   "outputs": [],
   "source": [
    "plt.imshow(merged_image)"
   ]
  },
  {
   "cell_type": "code",
   "execution_count": null,
   "id": "76b58561",
   "metadata": {},
   "outputs": [],
   "source": [
    "cv2.imwrite(file_path + \"stitched2.png\", 255 * merged_image)"
   ]
  },
  {
   "cell_type": "code",
   "execution_count": null,
   "id": "514ae62f",
   "metadata": {},
   "outputs": [],
   "source": []
  }
 ],
 "metadata": {
  "kernelspec": {
   "display_name": "Python 3 (ipykernel)",
   "language": "python",
   "name": "python3"
  },
  "language_info": {
   "codemirror_mode": {
    "name": "ipython",
    "version": 3
   },
   "file_extension": ".py",
   "mimetype": "text/x-python",
   "name": "python",
   "nbconvert_exporter": "python",
   "pygments_lexer": "ipython3",
   "version": "3.9.13"
  }
 },
 "nbformat": 4,
 "nbformat_minor": 5
}
