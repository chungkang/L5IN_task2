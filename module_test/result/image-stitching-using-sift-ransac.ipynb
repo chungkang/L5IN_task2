{
 "cells": [
  {
   "cell_type": "code",
   "execution_count": 1,
   "id": "d04df8d6",
   "metadata": {},
   "outputs": [],
   "source": [
    "import cv2\n",
    "import matplotlib.pyplot as plt\n",
    "import numpy as np\n",
    "import random\n",
    "from tqdm.notebook import tqdm\n",
    "import os\n",
    "\n",
    "plt.rcParams['figure.figsize'] = [15, 15]"
   ]
  },
  {
   "cell_type": "code",
   "execution_count": 2,
   "id": "b3faef7c",
   "metadata": {},
   "outputs": [
    {
     "data": {
      "text/plain": [
       "'C:\\\\Users\\\\ck\\\\workspace\\\\L5IN_task2\\\\module_test\\\\result'"
      ]
     },
     "execution_count": 2,
     "metadata": {},
     "output_type": "execute_result"
    }
   ],
   "source": [
    "os.getcwd()"
   ]
  },
  {
   "cell_type": "code",
   "execution_count": 3,
   "id": "5d53b675",
   "metadata": {},
   "outputs": [],
   "source": [
    "# Read image and convert them to gray!!\n",
    "def read_image(path):\n",
    "    img = cv2.imread(path)\n",
    "    img_gray= cv2.cvtColor(img, cv2.COLOR_RGB2GRAY)\n",
    "    img_rgb = cv2.cvtColor(img, cv2.COLOR_BGR2RGB)\n",
    "    return img_gray, img, img_rgb"
   ]
  },
  {
   "cell_type": "code",
   "execution_count": 4,
   "id": "d94c4e8d",
   "metadata": {},
   "outputs": [],
   "source": [
    "left_gray, left_origin, left_rgb = read_image('2OG_1_result.png')\n",
    "right_gray, right_origin, right_rgb = read_image('2OG_south.png')"
   ]
  },
  {
   "cell_type": "code",
   "execution_count": 5,
   "id": "7ade79ed",
   "metadata": {},
   "outputs": [],
   "source": [
    "def SIFT(img):\n",
    "    siftDetector= cv2.xfeatures2d.SIFT_create() # limit 1000 points\n",
    "    # siftDetector= cv2.SIFT_create()  # depends on OpenCV version\n",
    "\n",
    "    kp, des = siftDetector.detectAndCompute(img, None)\n",
    "    return kp, des\n",
    "\n",
    "def plot_sift(gray, rgb, kp):\n",
    "    tmp = rgb.copy()\n",
    "    img = cv2.drawKeypoints(gray, kp, tmp, flags=cv2.DRAW_MATCHES_FLAGS_DRAW_RICH_KEYPOINTS)\n",
    "    return img"
   ]
  },
  {
   "cell_type": "code",
   "execution_count": 6,
   "id": "e6c8dc6b",
   "metadata": {},
   "outputs": [],
   "source": [
    "# Better result when using gray\n",
    "kp_left, des_left = SIFT(left_gray)\n",
    "kp_right, des_right = SIFT(right_gray)"
   ]
  },
  {
   "cell_type": "code",
   "execution_count": 7,
   "id": "abf1219d",
   "metadata": {},
   "outputs": [],
   "source": [
    "kp_left_img = plot_sift(left_gray, left_rgb, kp_left)\n",
    "kp_right_img = plot_sift(right_gray, right_rgb, kp_right)"
   ]
  },
  {
   "cell_type": "code",
   "execution_count": 8,
   "id": "dd9f3424",
   "metadata": {},
   "outputs": [],
   "source": [
    "def matcher(kp1, des1, img1, kp2, des2, img2, threshold):\n",
    "    # BFMatcher with default params\n",
    "    bf = cv2.BFMatcher()\n",
    "    matches = bf.knnMatch(des1,des2, k=2)\n",
    "\n",
    "    # Apply ratio test\n",
    "    good = []\n",
    "    for m,n in matches:\n",
    "        if m.distance < threshold*n.distance:\n",
    "            good.append([m])\n",
    "\n",
    "    matches = []\n",
    "    for pair in good:\n",
    "        matches.append(list(kp1[pair[0].queryIdx].pt + kp2[pair[0].trainIdx].pt))\n",
    "\n",
    "    matches = np.array(matches)\n",
    "    return matches"
   ]
  },
  {
   "cell_type": "code",
   "execution_count": 9,
   "id": "1f587f7e",
   "metadata": {},
   "outputs": [],
   "source": [
    "matches = matcher(kp_left, des_left, left_rgb, kp_right, des_right, right_rgb, 0.5)"
   ]
  },
  {
   "cell_type": "code",
   "execution_count": 10,
   "id": "efe66262",
   "metadata": {},
   "outputs": [],
   "source": [
    "def plot_matches(matches, total_img):\n",
    "    match_img = total_img.copy()\n",
    "    offset = total_img.shape[1]/2\n",
    "    fig, ax = plt.subplots()\n",
    "    ax.set_aspect('equal')\n",
    "    ax.imshow(np.array(match_img).astype('uint8')) #　RGB is integer type\n",
    "    \n",
    "    ax.plot(matches[:, 0], matches[:, 1], 'xr')\n",
    "    ax.plot(matches[:, 2] + offset, matches[:, 3], 'xr')\n",
    "     \n",
    "    ax.plot([matches[:, 0], matches[:, 2] + offset], [matches[:, 1], matches[:, 3]],\n",
    "            'r', linewidth=0.5)\n",
    "\n",
    "    plt.show()"
   ]
  },
  {
   "cell_type": "code",
   "execution_count": 11,
   "id": "431ae007",
   "metadata": {},
   "outputs": [],
   "source": [
    "def homography(pairs):\n",
    "    rows = []\n",
    "    for i in range(pairs.shape[0]):\n",
    "        p1 = np.append(pairs[i][0:2], 1)\n",
    "        p2 = np.append(pairs[i][2:4], 1)\n",
    "        row1 = [0, 0, 0, p1[0], p1[1], p1[2], -p2[1]*p1[0], -p2[1]*p1[1], -p2[1]*p1[2]]\n",
    "        row2 = [p1[0], p1[1], p1[2], 0, 0, 0, -p2[0]*p1[0], -p2[0]*p1[1], -p2[0]*p1[2]]\n",
    "        rows.append(row1)\n",
    "        rows.append(row2)\n",
    "    rows = np.array(rows)\n",
    "    U, s, V = np.linalg.svd(rows)\n",
    "    H = V[-1].reshape(3, 3)\n",
    "    H = H/H[2, 2] # standardize to let w*H[2,2] = 1\n",
    "    return H"
   ]
  },
  {
   "cell_type": "code",
   "execution_count": 12,
   "id": "6baa3679",
   "metadata": {},
   "outputs": [],
   "source": [
    "def random_point(matches, k=4):\n",
    "    idx = random.sample(range(len(matches)), k)\n",
    "    point = [matches[i] for i in idx ]\n",
    "    return np.array(point)"
   ]
  },
  {
   "cell_type": "code",
   "execution_count": 13,
   "id": "d7550a26",
   "metadata": {},
   "outputs": [],
   "source": [
    "def get_error(points, H):\n",
    "    num_points = len(points)\n",
    "    all_p1 = np.concatenate((points[:, 0:2], np.ones((num_points, 1))), axis=1)\n",
    "    all_p2 = points[:, 2:4]\n",
    "    estimate_p2 = np.zeros((num_points, 2))\n",
    "    for i in range(num_points):\n",
    "        temp = np.dot(H, all_p1[i])\n",
    "        estimate_p2[i] = (temp/temp[2])[0:2] # set index 2 to 1 and slice the index 0, 1\n",
    "    # Compute error\n",
    "    errors = np.linalg.norm(all_p2 - estimate_p2 , axis=1) ** 2\n",
    "\n",
    "    return errors"
   ]
  },
  {
   "cell_type": "code",
   "execution_count": 14,
   "id": "78c26cd2",
   "metadata": {},
   "outputs": [],
   "source": [
    "def ransac(matches, threshold, iters):\n",
    "    num_best_inliers = 0\n",
    "    \n",
    "    for i in range(iters):\n",
    "        points = random_point(matches)\n",
    "        H = homography(points)\n",
    "        \n",
    "        #  avoid dividing by zero \n",
    "        if np.linalg.matrix_rank(H) < 3:\n",
    "            continue\n",
    "            \n",
    "        errors = get_error(matches, H)\n",
    "        idx = np.where(errors < threshold)[0]\n",
    "        inliers = matches[idx]\n",
    "\n",
    "        num_inliers = len(inliers)\n",
    "        if num_inliers > num_best_inliers:\n",
    "            best_inliers = inliers.copy()\n",
    "            num_best_inliers = num_inliers\n",
    "            best_H = H.copy()\n",
    "            \n",
    "    print(\"inliers/matches: {}/{}\".format(num_best_inliers, len(matches)))\n",
    "    return best_inliers, best_H"
   ]
  },
  {
   "cell_type": "code",
   "execution_count": 15,
   "id": "fe76feb6",
   "metadata": {},
   "outputs": [
    {
     "name": "stdout",
     "output_type": "stream",
     "text": [
      "inliers/matches: 11/62\n"
     ]
    }
   ],
   "source": [
    "inliers, H = ransac(matches, 0.5, 2000)"
   ]
  },
  {
   "cell_type": "code",
   "execution_count": 16,
   "id": "7c881810",
   "metadata": {},
   "outputs": [],
   "source": [
    "def stitch_img(left, right, H, buffer_size):\n",
    "    print(\"stitching image ...\")\n",
    "    \n",
    "    # Convert to double and normalize. Avoid noise.\n",
    "    left = cv2.normalize(left.astype('float'), None, 0.0, 1.0, cv2.NORM_MINMAX)   \n",
    "    # Convert to double and normalize.\n",
    "    right = cv2.normalize(right.astype('float'), None, 0.0, 1.0, cv2.NORM_MINMAX)   \n",
    "    \n",
    "    # left image\n",
    "    height_l, width_l, channel_l = left.shape\n",
    "    corners = [[0, 0, 1], [width_l, 0, 1], [width_l, height_l, 1], [0, height_l, 1]]\n",
    "    corners_new = [np.dot(H, corner) for corner in corners]\n",
    "    corners_new = np.array(corners_new).T \n",
    "    x_news = corners_new[0] / corners_new[2]\n",
    "    y_news = corners_new[1] / corners_new[2]\n",
    "    y_min = min(y_news) - buffer_size\n",
    "    x_min = min(x_news) - buffer_size\n",
    "\n",
    "    translation_mat = np.array([[1, 0, -x_min], [0, 1, -y_min], [0, 0, 1]])\n",
    "    H = np.dot(translation_mat, H)\n",
    "    \n",
    "    # Get height, width\n",
    "    height_new = int(round(abs(y_min) + height_l + buffer_size))\n",
    "    width_new = int(round(abs(x_min) + width_l + buffer_size))\n",
    "    size = (width_new, height_new)\n",
    "\n",
    "    # right image\n",
    "    warped_l = cv2.warpPerspective(src=left, M=H, dsize=size)\n",
    "\n",
    "    height_r, width_r, channel_r = right.shape\n",
    "    \n",
    "    height_new = int(round(abs(y_min) + height_r + buffer_size))\n",
    "    width_new = int(round(abs(x_min) + width_r + buffer_size))\n",
    "    size = (width_new, height_new)\n",
    "    \n",
    "\n",
    "    warped_r = cv2.warpPerspective(src=right, M=translation_mat, dsize=size)\n",
    "     \n",
    "    black = np.zeros(3)  # Black pixel.\n",
    "    \n",
    "    # Stitching procedure, store results in warped_l.\n",
    "    for i in tqdm(range(warped_r.shape[0])):\n",
    "        for j in range(warped_r.shape[1]):\n",
    "            pixel_l = warped_l[i, j, :]\n",
    "            pixel_r = warped_r[i, j, :]\n",
    "            \n",
    "            if not np.array_equal(pixel_l, black) and np.array_equal(pixel_r, black):\n",
    "                warped_l[i, j, :] = pixel_l\n",
    "            elif np.array_equal(pixel_l, black) and not np.array_equal(pixel_r, black):\n",
    "                warped_l[i, j, :] = pixel_r\n",
    "            elif not np.array_equal(pixel_l, black) and not np.array_equal(pixel_r, black):\n",
    "                warped_l[i, j, :] = (pixel_l + pixel_r) / 2\n",
    "            else:\n",
    "                pass\n",
    "                  \n",
    "    stitch_image = warped_l[:warped_r.shape[0], :warped_r.shape[1], :]\n",
    "    return stitch_image"
   ]
  },
  {
   "cell_type": "code",
   "execution_count": 17,
   "id": "f7a37e74",
   "metadata": {},
   "outputs": [],
   "source": [
    "right_height = right_rgb.shape[0]\n",
    "right_width = right_rgb.shape[1]"
   ]
  },
  {
   "cell_type": "code",
   "execution_count": 18,
   "id": "775a0ec8",
   "metadata": {},
   "outputs": [
    {
     "name": "stdout",
     "output_type": "stream",
     "text": [
      "stitching image ...\n"
     ]
    },
    {
     "data": {
      "application/vnd.jupyter.widget-view+json": {
       "model_id": "aefc3c8f86374472912751ef8d26e6b4",
       "version_major": 2,
       "version_minor": 0
      },
      "text/plain": [
       "  0%|          | 0/11909 [00:00<?, ?it/s]"
      ]
     },
     "metadata": {},
     "output_type": "display_data"
    },
    {
     "ename": "IndexError",
     "evalue": "index 10743 is out of bounds for axis 1 with size 10743",
     "output_type": "error",
     "traceback": [
      "\u001b[1;31m---------------------------------------------------------------------------\u001b[0m",
      "\u001b[1;31mIndexError\u001b[0m                                Traceback (most recent call last)",
      "\u001b[1;32m~\\AppData\\Local\\Temp\\ipykernel_17124\\418784065.py\u001b[0m in \u001b[0;36m<module>\u001b[1;34m\u001b[0m\n\u001b[1;32m----> 1\u001b[1;33m \u001b[0mmerged_image\u001b[0m \u001b[1;33m=\u001b[0m \u001b[0mstitch_img\u001b[0m\u001b[1;33m(\u001b[0m\u001b[0mleft_rgb\u001b[0m\u001b[1;33m,\u001b[0m \u001b[0mright_rgb\u001b[0m\u001b[1;33m,\u001b[0m \u001b[0mH\u001b[0m\u001b[1;33m,\u001b[0m \u001b[0mmax\u001b[0m\u001b[1;33m(\u001b[0m\u001b[0mright_height\u001b[0m\u001b[1;33m,\u001b[0m \u001b[0mright_width\u001b[0m\u001b[1;33m)\u001b[0m\u001b[1;33m)\u001b[0m\u001b[1;33m\u001b[0m\u001b[1;33m\u001b[0m\u001b[0m\n\u001b[0m",
      "\u001b[1;32m~\\AppData\\Local\\Temp\\ipykernel_17124\\2588017306.py\u001b[0m in \u001b[0;36mstitch_img\u001b[1;34m(left, right, H, buffer_size)\u001b[0m\n\u001b[0;32m     42\u001b[0m     \u001b[1;32mfor\u001b[0m \u001b[0mi\u001b[0m \u001b[1;32min\u001b[0m \u001b[0mtqdm\u001b[0m\u001b[1;33m(\u001b[0m\u001b[0mrange\u001b[0m\u001b[1;33m(\u001b[0m\u001b[0mwarped_r\u001b[0m\u001b[1;33m.\u001b[0m\u001b[0mshape\u001b[0m\u001b[1;33m[\u001b[0m\u001b[1;36m0\u001b[0m\u001b[1;33m]\u001b[0m\u001b[1;33m)\u001b[0m\u001b[1;33m)\u001b[0m\u001b[1;33m:\u001b[0m\u001b[1;33m\u001b[0m\u001b[1;33m\u001b[0m\u001b[0m\n\u001b[0;32m     43\u001b[0m         \u001b[1;32mfor\u001b[0m \u001b[0mj\u001b[0m \u001b[1;32min\u001b[0m \u001b[0mrange\u001b[0m\u001b[1;33m(\u001b[0m\u001b[0mwarped_r\u001b[0m\u001b[1;33m.\u001b[0m\u001b[0mshape\u001b[0m\u001b[1;33m[\u001b[0m\u001b[1;36m1\u001b[0m\u001b[1;33m]\u001b[0m\u001b[1;33m)\u001b[0m\u001b[1;33m:\u001b[0m\u001b[1;33m\u001b[0m\u001b[1;33m\u001b[0m\u001b[0m\n\u001b[1;32m---> 44\u001b[1;33m             \u001b[0mpixel_l\u001b[0m \u001b[1;33m=\u001b[0m \u001b[0mwarped_l\u001b[0m\u001b[1;33m[\u001b[0m\u001b[0mi\u001b[0m\u001b[1;33m,\u001b[0m \u001b[0mj\u001b[0m\u001b[1;33m,\u001b[0m \u001b[1;33m:\u001b[0m\u001b[1;33m]\u001b[0m\u001b[1;33m\u001b[0m\u001b[1;33m\u001b[0m\u001b[0m\n\u001b[0m\u001b[0;32m     45\u001b[0m             \u001b[0mpixel_r\u001b[0m \u001b[1;33m=\u001b[0m \u001b[0mwarped_r\u001b[0m\u001b[1;33m[\u001b[0m\u001b[0mi\u001b[0m\u001b[1;33m,\u001b[0m \u001b[0mj\u001b[0m\u001b[1;33m,\u001b[0m \u001b[1;33m:\u001b[0m\u001b[1;33m]\u001b[0m\u001b[1;33m\u001b[0m\u001b[1;33m\u001b[0m\u001b[0m\n\u001b[0;32m     46\u001b[0m \u001b[1;33m\u001b[0m\u001b[0m\n",
      "\u001b[1;31mIndexError\u001b[0m: index 10743 is out of bounds for axis 1 with size 10743"
     ]
    }
   ],
   "source": [
    "merged_image = stitch_img(left_rgb, right_rgb, H, max(right_height, right_width))"
   ]
  },
  {
   "cell_type": "code",
   "execution_count": null,
   "id": "fe4734eb",
   "metadata": {},
   "outputs": [],
   "source": [
    "plt.imshow(merged_image)"
   ]
  },
  {
   "cell_type": "code",
   "execution_count": null,
   "id": "a1228c5b",
   "metadata": {},
   "outputs": [],
   "source": []
  },
  {
   "cell_type": "code",
   "execution_count": null,
   "id": "a6c6cb3e",
   "metadata": {},
   "outputs": [],
   "source": [
    "cv2.imwrite(\"stitched.png\", 255*merged_image)"
   ]
  }
 ],
 "metadata": {
  "kernelspec": {
   "display_name": "Python 3 (ipykernel)",
   "language": "python",
   "name": "python3"
  },
  "language_info": {
   "codemirror_mode": {
    "name": "ipython",
    "version": 3
   },
   "file_extension": ".py",
   "mimetype": "text/x-python",
   "name": "python",
   "nbconvert_exporter": "python",
   "pygments_lexer": "ipython3",
   "version": "3.9.13"
  }
 },
 "nbformat": 4,
 "nbformat_minor": 5
}
